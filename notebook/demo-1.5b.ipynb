{
 "cells": [
  {
   "cell_type": "code",
   "execution_count": 1,
   "metadata": {},
   "outputs": [],
   "source": [
    "import onnxruntime_genai as og\n",
    "import numpy as np\n",
    "import os\n",
    "import time\n",
    "import psutil"
   ]
  },
  {
   "cell_type": "code",
   "execution_count": 2,
   "metadata": {},
   "outputs": [],
   "source": [
    "model_folder = \"Your DeepSeek-R1-Distill-Qwen-1.5B-ONNX location\""
   ]
  },
  {
   "cell_type": "code",
   "execution_count": 3,
   "metadata": {},
   "outputs": [],
   "source": [
    "\n",
    "process = psutil.Process(os.getpid())\n",
    "\n",
    "mem_before_load = process.memory_info().rss / (1024 * 1024)"
   ]
  },
  {
   "cell_type": "code",
   "execution_count": 4,
   "metadata": {},
   "outputs": [],
   "source": [
    "model = og.Model(model_folder)"
   ]
  },
  {
   "cell_type": "code",
   "execution_count": 5,
   "metadata": {},
   "outputs": [
    {
     "name": "stdout",
     "output_type": "stream",
     "text": [
      "Memory before model loading: 80.07 MB, Memory after loading: 1083.63 MB, Added: 1003.56 MB\n"
     ]
    }
   ],
   "source": [
    "\n",
    "mem_after_load = process.memory_info().rss / (1024 * 1024)\n",
    "print(f\"Memory before model loading: {mem_before_load:.2f} MB, Memory after loading: {mem_after_load:.2f} MB, Added: {mem_after_load - mem_before_load:.2f} MB\")"
   ]
  },
  {
   "cell_type": "code",
   "execution_count": 6,
   "metadata": {},
   "outputs": [],
   "source": [
    "tokenizer = og.Tokenizer(model)\n",
    "tokenizer_stream = tokenizer.create_stream()"
   ]
  },
  {
   "cell_type": "code",
   "execution_count": 7,
   "metadata": {},
   "outputs": [],
   "source": [
    "search_options = {}\n",
    "search_options['max_length'] = 2048\n",
    "search_options['past_present_share_buffer'] = False"
   ]
  },
  {
   "cell_type": "code",
   "execution_count": 8,
   "metadata": {},
   "outputs": [],
   "source": [
    "chat_template = \"<|user|>{input}<|assistant|>\""
   ]
  },
  {
   "cell_type": "code",
   "execution_count": 9,
   "metadata": {},
   "outputs": [],
   "source": [
    "text = \"\"\"Find all pairwise different isomorphism groups of order 147 that do not contain elements of order 49\"\"\""
   ]
  },
  {
   "cell_type": "code",
   "execution_count": 10,
   "metadata": {},
   "outputs": [],
   "source": [
    "prompt = f'{chat_template.format(input=text)}'"
   ]
  },
  {
   "cell_type": "code",
   "execution_count": 11,
   "metadata": {},
   "outputs": [],
   "source": [
    "input_tokens = tokenizer.encode(prompt)"
   ]
  },
  {
   "cell_type": "code",
   "execution_count": 12,
   "metadata": {},
   "outputs": [],
   "source": [
    "params = og.GeneratorParams(model)"
   ]
  },
  {
   "cell_type": "code",
   "execution_count": 13,
   "metadata": {},
   "outputs": [],
   "source": [
    "params.set_search_options(**search_options)\n",
    "params.input_ids = input_tokens"
   ]
  },
  {
   "cell_type": "code",
   "execution_count": 14,
   "metadata": {},
   "outputs": [],
   "source": [
    "generator = og.Generator(model, params)"
   ]
  },
  {
   "cell_type": "code",
   "execution_count": 15,
   "metadata": {},
   "outputs": [],
   "source": [
    "\n",
    "start_time = time.time()\n",
    "\n",
    "first_token_time = None\n",
    "token_count = 0"
   ]
  },
  {
   "cell_type": "code",
   "execution_count": 16,
   "metadata": {},
   "outputs": [
    {
     "name": "stdout",
     "output_type": "stream",
     "text": [
      "firstly token delpay: 0.5723 s\n",
      "Yes, I can help. Let me start by recalling some group theory concepts.\n",
      "\n",
      "First, I know that 147 is equal to 3 times 49, which is 3 times 7 squared. So, 147 = 3 * 7^2. This is useful because it tells me that the group of order 147 is a semi-direct product of a group of order 3 and a group of order 49. \n",
      "\n",
      "Wait, but 49 is 7 squared, so the group of order 49 is an abelian group since 7 is a prime. Therefore, the group of order 147 is a semi-direct product of a group of order 3 and an abelian group of order 49. \n",
      "\n",
      "So, the first step is to figure out all possible semi-direct products of these groups. The number of such semi-direct products depends on the number of automorphisms of the group of order 49. \n",
      "\n",
      "Since 49 is 7 squared, the automorphism group of the group of order 49 is isomorphic to the multiplicative group modulo 49. That is, Aut(C49) �� (Z/49Z)*. The order of this group is φ(49) = φ(7^2) = 7^2 - 7 = 49 - 7 = 42. So, Aut(C49) has order 42. \n",
      "\n",
      "Therefore, the number of possible semi-direct products is equal to the number of automorphisms of the group of order 49, which is 42. \n",
      "\n",
      "But wait, not all semi-direct products are distinct. Some of them might be isomorphic to each other. So, I need to figure out how many distinct semi-direct products there are. \n",
      "\n",
      "In general, for a group G of order p^n, where p is a prime, and a subgroup H of order p, the number of semi-direct products is equal to the number of automorphisms of H that extend to an automorphism of G. \n",
      "\n",
      "In our case, H is a group of order 3, which is cyclic. So, Aut(H) is isomorphic to (Z/3Z)*, which has order φ(3) = 2. \n",
      "\n",
      "Therefore, the number of semi-direct products is equal to the number of automorphisms of H that extend to an automorphism of G. \n",
      "\n",
      "But G is of order 3 * 7^2, so it's a semi-direct product of H and K, where K is a group of order 49. \n",
      "\n",
      "The number of such semi-direct products is equal to the number of automorphisms of K that extend to an automorphism of G. \n",
      "\n",
      "But since K is an abelian group, Aut(K) is isomorphic to the group of units modulo 49, which is of order 42. \n",
      "\n",
      "Therefore, the number of semi-direct products is equal to the number of automorphisms of K that extend to an automorphism of G. \n",
      "\n",
      "But not all automorphisms of K extend to automorphisms of G. \n",
      "\n",
      "In fact, only those automorphisms of K that are compatible with the action of H on K will extend to an automorphism of G. \n",
      "\n",
      "So, the number of semi-direct products is equal to the number of such compatible automorphisms. \n",
      "\n",
      "But how do we compute that? \n",
      "\n",
      "Well, let's recall that a semi-direct product is determined by a homomorphism φ: H → Aut(K), together with a subgroup K of G, such that the action of H on K is given by φ. \n",
      "\n",
      "In our case, H is a group of order 3, and K is a group of order 49. \n",
      "\n",
      "So, the homomorphism φ: H → Aut(K) must satisfy that the image of φ is a subgroup of Aut(K) of order dividing 3. \n",
      "\n",
      "But Aut(K) is of order 42, so the image of φ must be a subgroup of Aut(K) of order dividing 3. \n",
      "\n",
      "Therefore, the image of φ must be a subgroup of Aut(K) of order 1 or 3. \n",
      "\n",
      "But Aut(K) is of order 42, which is divisible by 3. So, the image of φ can be a subgroup of order 1 or 3. \n",
      "\n",
      "Therefore, the number of semi-direct products is equal to the number of subgroups of Aut(K) of order 1 or 3, together with a subgroup K of G, such that the action of H on K is given by φ. \n",
      "\n",
      "But this seems complicated. Maybe there's a better way to compute the number of semi-direct products. \n",
      "\n",
      "Alternatively, perhaps I can compute the number of distinct semi-direct products by considering the number of possible extensions. \n",
      "\n",
      "In general, for a group G of order p^n, the number of semi-direct products is equal to the number of automorphisms of the group of order p^n that extend to an automorphism of G. \n",
      "\n",
      "But in our case, G is of order 3 * 7^2, so it's a semi-direct product of a group of order 3 and a group of order 49. \n",
      "\n",
      "So, the number of such semi-direct products is equal to the number of automorphisms of the group of order 49 that extend to an automorphism of G. \n",
      "\n",
      "But since G is a semi-direct product of H and K, the automorphisms of G must preserve the action of H on K. \n",
      "\n",
      "Therefore, the automorphisms of G are determined by automorphisms of K that are compatible with the action of H on K. \n",
      "\n",
      "So, the number of such automorphisms is equal to the number of automorphisms of K that are compatible with the action of H on K. \n",
      "\n",
      "But how do we compute that? \n",
      "\n",
      "Well, let's recall that the automorphism group of K is isomorphic to (Z/49Z)*, which is a multiplicative group modulo 49. \n",
      "\n",
      "So, Aut(K) �� (Z/49Z)*, which has order 42. \n",
      "\n",
      "Now, the action of H on K is given by a homomorphism φ: H → Aut(K). \n",
      "\n",
      "In our case, H is a group of order 3, so φ: H → Aut(K) must satisfy that the image of φ is a subgroup of Aut(K) of order dividing 3. \n",
      "\n",
      "Therefore, the image of φ must be a subgroup of Aut(K) of order 1 or 3. \n",
      "\n",
      "So, the number of such homomorphisms φ is equal to the number of subgroups of Aut(K) of order 1 or 3, together with a subgroup K of G, such that the action of H on K is given by φ. \n",
      "\n",
      "But this seems complicated. Maybe there's a better way to compute the number of semi-direct products. \n",
      "\n",
      "Alternatively, perhaps I can compute the number of distinct semi-direct products by considering the number of possible extensions. \n",
      "\n",
      "In general, for a group G of order p^n, the number of semi-direct products is equal to the number of automorphisms of G that preserve the action of H on K. \n",
      "\n",
      "But in our case, G is a semi-direct product of H and K, so the automorphisms of G must preserve the action of H on K. \n",
      "\n",
      "Therefore, the number of such automorphisms is equal to the number of automorphisms of K that are compatible with the action of H on K. \n",
      "\n",
      "But how do we compute that? \n",
      "\n",
      "Well, let's recall that the automorphism group of K is isomorphic to (Z/49Z)*, which has order 42. \n",
      "\n",
      "Now, the action of H on K is given by a homomorphism φ: H → Aut(K). \n",
      "\n",
      "In our case, H is a group of order 3, so φ: H → Aut(K) must satisfy that the image of φ is a subgroup of Aut(K) of order dividing 3. \n",
      "\n",
      "Therefore, the image of φ must be a subgroup of Aut(K) of order 1 or 3. \n",
      "\n",
      "So, the number of such homomorphisms φ is equal to the number of subgroups of Aut(K) of order 1 or 3, together with a subgroup K of G, such that the action of H on K is given by φ. \n",
      "\n",
      "But this seems complicated. Maybe there's a better way to compute the number of semi-direct products. \n",
      "\n",
      "Alternatively, perhaps I can compute the number of distinct semi-direct products by considering the number of possible extensions. \n",
      "\n",
      "In general, for a group G of order p^n, the number of semi-direct products is equal to the number of automorphisms of G that preserve the action of H on K. \n",
      "\n",
      "But in our case, G is a semi-direct product of H and K, so the automorphisms of G must preserve the action of H on K. \n",
      "\n",
      "Therefore, the number of such automorphisms is equal to the number of automorphisms of K that are compatible with the action of H on K. \n",
      "\n",
      "But how do we compute that? \n",
      "\n",
      "Well, let's recall that the automorphism group of K is isomorphic to (Z/49Z)*, which has order 42. \n",
      "\n",
      "Now, the action of H on K is given by a homomorphism φ: H → Aut(K). \n",
      "\n",
      "In our case, H is a group of order 3, so φ: H → Aut(K) must satisfy that the image of φ is a subgroup of Aut(K) of order dividing 3. \n",
      "\n",
      "Therefore, the image of φ must be a subgroup of Aut(K)"
     ]
    }
   ],
   "source": [
    "while not generator.is_done():\n",
    "      generator.compute_logits()\n",
    "      generator.generate_next_token()\n",
    "\n",
    "      new_token = generator.get_next_tokens()[0]\n",
    "      token_text = tokenizer.decode(new_token)\n",
    "      # print(tokenizer_stream.decode(new_token), end='', flush=True)\n",
    "      if token_count == 0:\n",
    "        first_token_time = time.time()\n",
    "        first_response_latency = first_token_time - start_time\n",
    "        print(f\"firstly token delpay: {first_response_latency:.4f} s\")\n",
    "\n",
    "      print(token_text, end='', flush=True)\n",
    "      token_count += 1"
   ]
  },
  {
   "cell_type": "code",
   "execution_count": 17,
   "metadata": {},
   "outputs": [
    {
     "name": "stdout",
     "output_type": "stream",
     "text": [
      "\n",
      "--- Inference ends ---\n",
      "A total of  2014 tokens were output, taking 284.1676 second\n",
      "Average generation rate: 7.09 tokens/second\n",
      "Memory usage after inference: 1366.44 MB, change from after loading 282.80 MB\n"
     ]
    }
   ],
   "source": [
    "end_time = time.time()\n",
    "total_time = end_time - start_time\n",
    "print(\"\\n--- Inference ends ---\")\n",
    "print(f\"A total of  {token_count} tokens were output, taking {total_time:.4f} second\")\n",
    "\n",
    "if token_count > 0:\n",
    "    average_speed = token_count / total_time\n",
    "    print(f\"Average generation rate: {average_speed:.2f} tokens/second\")\n",
    "\n",
    "mem_after_inference = process.memory_info().rss / (1024 * 1024)\n",
    "print(f\"Memory usage after inference: {mem_after_inference:.2f} MB, change from after loading {mem_after_inference - mem_after_load:.2f} MB\")"
   ]
  }
 ],
 "metadata": {
  "kernelspec": {
   "display_name": "ortdev",
   "language": "python",
   "name": "python3"
  },
  "language_info": {
   "codemirror_mode": {
    "name": "ipython",
    "version": 3
   },
   "file_extension": ".py",
   "mimetype": "text/x-python",
   "name": "python",
   "nbconvert_exporter": "python",
   "pygments_lexer": "ipython3",
   "version": "3.11.10"
  }
 },
 "nbformat": 4,
 "nbformat_minor": 2
}
