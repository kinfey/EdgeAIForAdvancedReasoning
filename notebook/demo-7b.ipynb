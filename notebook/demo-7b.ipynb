{
 "cells": [
  {
   "cell_type": "code",
   "execution_count": 1,
   "metadata": {},
   "outputs": [],
   "source": [
    "import onnxruntime_genai as og\n",
    "import numpy as np\n",
    "import os\n",
    "import time\n",
    "import psutil"
   ]
  },
  {
   "cell_type": "code",
   "execution_count": 2,
   "metadata": {},
   "outputs": [],
   "source": [
    "model_folder = \"Your DeepSeek-R1-Distill-Qwen-7B-INT4-ONNX location\""
   ]
  },
  {
   "cell_type": "code",
   "execution_count": 3,
   "metadata": {},
   "outputs": [],
   "source": [
    "\n",
    "process = psutil.Process(os.getpid())\n",
    "\n",
    "mem_before_load = process.memory_info().rss / (1024 * 1024)"
   ]
  },
  {
   "cell_type": "code",
   "execution_count": 4,
   "metadata": {},
   "outputs": [],
   "source": [
    "model = og.Model(model_folder)"
   ]
  },
  {
   "cell_type": "code",
   "execution_count": 5,
   "metadata": {},
   "outputs": [
    {
     "name": "stdout",
     "output_type": "stream",
     "text": [
      "Memory before model loading: 80.36 MB, Memory after loading: 4379.05 MB, Added: 4298.69 MB\n"
     ]
    }
   ],
   "source": [
    "\n",
    "mem_after_load = process.memory_info().rss / (1024 * 1024)\n",
    "print(f\"Memory before model loading: {mem_before_load:.2f} MB, Memory after loading: {mem_after_load:.2f} MB, Added: {mem_after_load - mem_before_load:.2f} MB\")"
   ]
  },
  {
   "cell_type": "code",
   "execution_count": 6,
   "metadata": {},
   "outputs": [],
   "source": [
    "tokenizer = og.Tokenizer(model)\n",
    "tokenizer_stream = tokenizer.create_stream()"
   ]
  },
  {
   "cell_type": "code",
   "execution_count": 7,
   "metadata": {},
   "outputs": [],
   "source": [
    "search_options = {}\n",
    "search_options['max_length'] = 2048\n",
    "search_options['past_present_share_buffer'] = False"
   ]
  },
  {
   "cell_type": "code",
   "execution_count": 8,
   "metadata": {},
   "outputs": [],
   "source": [
    "chat_template = \"<|user|>{input}<|assistant|>\""
   ]
  },
  {
   "cell_type": "code",
   "execution_count": 9,
   "metadata": {},
   "outputs": [],
   "source": [
    "# text = \"\"\"explain 1+1=2\"\"\"\n",
    "\n",
    "text = \"\"\"Find all pairwise different isomorphism groups of order 147 that do not contain elements of order 49\"\"\""
   ]
  },
  {
   "cell_type": "code",
   "execution_count": 10,
   "metadata": {},
   "outputs": [],
   "source": [
    "prompt = f'{chat_template.format(input=text)}'"
   ]
  },
  {
   "cell_type": "code",
   "execution_count": 11,
   "metadata": {},
   "outputs": [],
   "source": [
    "input_tokens = tokenizer.encode(prompt)"
   ]
  },
  {
   "cell_type": "code",
   "execution_count": 12,
   "metadata": {},
   "outputs": [],
   "source": [
    "params = og.GeneratorParams(model)"
   ]
  },
  {
   "cell_type": "code",
   "execution_count": 13,
   "metadata": {},
   "outputs": [],
   "source": [
    "params.set_search_options(**search_options)\n",
    "params.input_ids = input_tokens"
   ]
  },
  {
   "cell_type": "code",
   "execution_count": 14,
   "metadata": {},
   "outputs": [],
   "source": [
    "generator = og.Generator(model, params)"
   ]
  },
  {
   "cell_type": "code",
   "execution_count": 15,
   "metadata": {},
   "outputs": [],
   "source": [
    "\n",
    "start_time = time.time()\n",
    "\n",
    "first_token_time = None\n",
    "token_count = 0"
   ]
  },
  {
   "cell_type": "code",
   "execution_count": 16,
   "metadata": {},
   "outputs": [
    {
     "name": "stdout",
     "output_type": "stream",
     "text": [
      "firstly token delpay: 2.2185 s\n",
      "Okay, so I need to find all pairwise different isomorphism groups of order 147 that do not contain elements of order 49. Hmm, let me start by understanding the problem step by step.\n",
      "\n",
      "First, the order of the group is 147. I know that 147 factors into prime numbers as 3 × 7². So, the group has order 3 × 49. Since 3 and 49 are coprime, any group of order 147 is solvable by Sylow's theorem. That means the group is either a direct product of its Sylow subgroups or a semidirect product.\n",
      "\n",
      "Now, the Sylow theorems tell me that the number of Sylow p-subgroups for each prime p dividing the group order must satisfy certain conditions. Let's consider the Sylow 3-subgroups and Sylow 7-subgroups.\n",
      "\n",
      "For the Sylow 3-subgroup, the number of such subgroups, n_3, must divide 49 and be congruent to 1 mod 3. So, n_3 can be 1 or 49. Similarly, for the Sylow 7-subgroups, n_7 must divide 3 and be congruent to 1 mod 7. Since 3 is less than 7, n_7 can only be 1.\n",
      "\n",
      "If n_7 = 1, then the Sylow 7-subgroup is normal in the group. Similarly, if n_3 = 1, then the Sylow 3-subgroup is also normal. However, if n_3 = 49, then there are 49 Sylow 3-subgroups, each of order 3, which are all distinct.\n",
      "\n",
      "So, the group could be a direct product of its Sylow 3 and Sylow 7-subgroups if both are normal. Alternatively, if the Sylow 3-subgroup is not normal, then the group is a semidirect product of the Sylow 7-subgroup by the Sylow 3-subgroup.\n",
      "\n",
      "But wait, the problem states that the groups should not contain elements of order 49. Let me think about that. An element of order 49 would be in the Sylow 7-subgroup, right? Because 49 is 7 squared. So, if the Sylow 7-subgroup is cyclic of order 49, then it contains elements of order 49. But if the Sylow 7-subgroup is not cyclic, say it's elementary abelian, then it doesn't have elements of order 49.\n",
      "\n",
      "Wait, but 49 is 7 squared, so the exponent of the Sylow 7-subgroup must divide 49. If the Sylow 7-subgroup is of order 49, it can be either cyclic or elementary abelian. If it's cyclic, then it has elements of order 49. If it's elementary abelian, then every non-identity element has order 7.\n",
      "\n",
      "Therefore, to avoid having elements of order 49, the Sylow 7-subgroup must be elementary abelian, i.e., isomorphic to the direct product of two cyclic groups of order 7. So, the Sylow 7-subgroup is either C49 or C7 × C7. But since we don't want elements of order 49, it must be C7 × C7.\n",
      "\n",
      "Similarly, the Sylow 3-subgroup is of order 3, so it's cyclic, either C3 or trivial. But since the group has order 147, which is divisible by 3, the Sylow 3-subgroup must be non-trivial, so it's C3.\n",
      "\n",
      "Now, considering the group structure, since the Sylow 7-subgroup is normal (as n_7 = 1), and the Sylow 3-subgroup may or may not be normal. If the Sylow 3-subgroup is normal, then the group is the direct product C3 × (C7 × C7). If the Sylow 3-subgroup is not normal, then the group is a semidirect product of C7 × C7 by C3.\n",
      "\n",
      "So, let's explore both cases.\n",
      "\n",
      "First, the direct product case: G = C3 × (C7 × C7). This is an abelian group of order 147. Since 3 and 7 are coprime, the direct product is isomorphic to C3 × C7 × C7, which is also isomorphic to C21 × C7, but actually, since 3 and 7 are coprime, it's just the direct product of cyclic groups of orders 3, 7, and 7. So, it's an abelian group of rank 2 with exponents 3 and 7.\n",
      "\n",
      "Now, the semidirect product case: G = (C7 × C7) ��� C3. Here, the action of C3 on C7 × C7 is determined by a homomorphism from C3 to Aut(C7 × C7). Since C3 is cyclic of order 3, and Aut(C7 × C7) is the group of automorphisms of the elementary abelian group of rank 2 over the field of 7 elements.\n",
      "\n",
      "I recall that Aut(C7 × C7) is isomorphic to GL(2,7), the general linear group of 2x2 invertible matrices over the field of 7 elements. The order of GL(2,7) is (7² - 1)(7² - 7) = (49 - 1)(49 - 7) = 48 × 42 = 2016. But we are looking for homomorphisms from C3 into GL(2,7). Since C3 is of order 3, the image must be an element of order dividing 3 in GL(2,7). So, we need to find the number of elements of order 3 in GL(2,7).\n",
      "\n",
      "Alternatively, we can think about the possible actions. Since C3 is acting on C7 × C7, which is a vector space over the field of 7 elements, the action is a linear transformation. So, the homomorphism from C3 to GL(2,7) corresponds to a representation of C3 as matrices of order dividing 3.\n",
      "\n",
      "But C3 is cyclic, so such a representation is determined by a single matrix of order 3. So, we need to find the number of conjugacy classes of elements of order 3 in GL(2,7). Each such conjugacy class corresponds to a different semidirect product, hence a different isomorphism class.\n",
      "\n",
      "Alternatively, perhaps it's easier to note that the number of non-isomorphic semidirect products is equal to the number of non-conjugate homomorphisms from C3 to Aut(C7 × C7). So, we need to count the number of such homomorphisms up to conjugacy.\n",
      "\n",
      "But maybe it's more straightforward to consider that the automorphism group of C7 × C7 is GL(2,7), and we can look for elements of order 3 in GL(2,7). The number of such elements can be calculated, but perhaps it's easier to recall that the number of isomorphism classes of semidirect products is equal to the number of orbits under the action of Aut(C7 × C7) on the set of homomorphisms from C3 to Aut(C7 × C7). But this seems complicated.\n",
      "\n",
      "Alternatively, perhaps we can note that the number of non-isomorphic semidirect products is equal to the number of distinct irreducible representations of C3 over the field of 7 elements. Wait, but I'm not sure about that.\n",
      "\n",
      "Alternatively, perhaps we can think about the possible actions. Since C3 is acting on the elementary abelian group of rank 2, the action is determined by a linear operator of order 3. So, the operator satisfies x³ = I, where I is the identity matrix. So, the minimal polynomial of x divides t³ - 1. Over the field of 7 elements, t³ - 1 factors as (t - 1)(t² + t + 1), since 1 is a root, and the other roots are the primitive 3rd roots of unity. However, in GF(7), does t² + t + 1 split? Let's check if it has roots in GF(7). Plugging t=0: 0 + 0 + 1 = 1 ≠ 0. t=1: 1 + 1 + 1 = 3 ≠ 0. t=2: 4 + 2 + 1 = 7 �� 0 mod 7. So, t=2 is a root. Therefore, t² + t + 1 factors as (t - 2)(t - 3) over GF(7), since 2 and 3 are roots (since 2 + 3 = 5, but wait, 2 + 3 = 5, which is not 1. Wait, maybe I miscalculated.\n",
      "\n",
      "Wait, if t=2 is a root, then t² + t + 1 = (t - 2)(t - a) for some a. Let's compute (t - 2)(t - a) = t² -"
     ]
    }
   ],
   "source": [
    "while not generator.is_done():\n",
    "      generator.compute_logits()\n",
    "      generator.generate_next_token()\n",
    "\n",
    "      new_token = generator.get_next_tokens()[0]\n",
    "      token_text = tokenizer.decode(new_token)\n",
    "      # print(tokenizer_stream.decode(new_token), end='', flush=True)\n",
    "      if token_count == 0:\n",
    "        first_token_time = time.time()\n",
    "        first_response_latency = first_token_time - start_time\n",
    "        print(f\"firstly token delpay: {first_response_latency:.4f} s\")\n",
    "\n",
    "      print(token_text, end='', flush=True)\n",
    "      token_count += 1"
   ]
  },
  {
   "cell_type": "code",
   "execution_count": 17,
   "metadata": {},
   "outputs": [
    {
     "name": "stdout",
     "output_type": "stream",
     "text": [
      "\n",
      "--- Inference ends ---\n",
      "A total of  2014 tokens were output, taking 1099.0207 second\n",
      "Average generation rate: 1.83 tokens/second\n",
      "Memory usage after inference: 4904.38 MB, change from after loading 525.32 MB\n"
     ]
    }
   ],
   "source": [
    "end_time = time.time()\n",
    "total_time = end_time - start_time\n",
    "print(\"\\n--- Inference ends ---\")\n",
    "print(f\"A total of  {token_count} tokens were output, taking {total_time:.4f} second\")\n",
    "\n",
    "if token_count > 0:\n",
    "    average_speed = token_count / total_time\n",
    "    print(f\"Average generation rate: {average_speed:.2f} tokens/second\")\n",
    "\n",
    "mem_after_inference = process.memory_info().rss / (1024 * 1024)\n",
    "print(f\"Memory usage after inference: {mem_after_inference:.2f} MB, change from after loading {mem_after_inference - mem_after_load:.2f} MB\")"
   ]
  }
 ],
 "metadata": {
  "kernelspec": {
   "display_name": "ortdev",
   "language": "python",
   "name": "python3"
  },
  "language_info": {
   "codemirror_mode": {
    "name": "ipython",
    "version": 3
   },
   "file_extension": ".py",
   "mimetype": "text/x-python",
   "name": "python",
   "nbconvert_exporter": "python",
   "pygments_lexer": "ipython3",
   "version": "3.11.10"
  }
 },
 "nbformat": 4,
 "nbformat_minor": 2
}
